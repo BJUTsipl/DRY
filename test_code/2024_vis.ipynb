{
 "cells": [
  {
   "cell_type": "markdown",
   "metadata": {},
   "source": [
    "# 可视化"
   ]
  },
  {
   "cell_type": "markdown",
   "metadata": {},
   "source": [
    "## 生成Cityscapes数据集的GT框"
   ]
  },
  {
   "cell_type": "code",
   "execution_count": 115,
   "metadata": {},
   "outputs": [],
   "source": [
    "import os\n",
    "from pycocotools.coco import COCO"
   ]
  },
  {
   "cell_type": "code",
   "execution_count": 116,
   "metadata": {},
   "outputs": [
    {
     "name": "stdout",
     "output_type": "stream",
     "text": [
      "loading annotations into memory...\n",
      "Done (t=0.23s)\n",
      "creating index...\n",
      "index created!\n"
     ]
    }
   ],
   "source": [
    "from yolox.data import COCOFormatDataset, ValTransform\n",
    "data_dir = \"datasets/Cityscapes\"\n",
    "val_ann = \"cocoAnnotations/cityscapes_val_caronly_cocostyle.json\"\n",
    "test_size = (640, 640)\n",
    "valdataset = COCOFormatDataset(\n",
    "    data_dir=data_dir,\n",
    "    name=\"leftImg8bit_val\",\n",
    "    json_file=val_ann,\n",
    "    img_dir=\"leftImg8bit/val\",\n",
    "    img_size=test_size,\n",
    "    preproc=ValTransform(legacy=False),\n",
    ")"
   ]
  },
  {
   "cell_type": "code",
   "execution_count": null,
   "metadata": {},
   "outputs": [],
   "source": [
    "valdataset.annotations"
   ]
  },
  {
   "cell_type": "code",
   "execution_count": 118,
   "metadata": {},
   "outputs": [],
   "source": [
    "def get_info_from_filepath(path):\n",
    "    for i,anno in enumerate(valdataset.annotations):\n",
    "        bboxs,img_size,resize_size,file_path = anno\n",
    "        if file_path == path:\n",
    "            return anno\n",
    "    print('anno not found!')\n",
    "    return None\n",
    "anno = get_info_from_filepath('munster/munster_000000_000019_leftImg8bit.png')"
   ]
  },
  {
   "cell_type": "code",
   "execution_count": 119,
   "metadata": {},
   "outputs": [],
   "source": [
    "import cv2\n",
    "raw_img = cv2.imread(os.path.join(data_dir,'leftImg8bit/val','munster/munster_000000_000019_leftImg8bit.png'))"
   ]
  },
  {
   "cell_type": "code",
   "execution_count": null,
   "metadata": {},
   "outputs": [],
   "source": [
    "from matplotlib import pyplot as plt\n",
    "plt.imshow(raw_img)"
   ]
  },
  {
   "cell_type": "code",
   "execution_count": null,
   "metadata": {},
   "outputs": [],
   "source": [
    "from visualize import vis_GT\n",
    "from yolox.data.datasets import Cityscapes_CLASSES,KITTI_CLASSES\n",
    "img = raw_img\n",
    "img = vis_GT(img, anno[0], max(anno[1])/640, class_names=Cityscapes_CLASSES)\n",
    "plt.imshow(img)\n",
    "plt.imsave(\"save.png\",img)"
   ]
  },
  {
   "cell_type": "code",
   "execution_count": 122,
   "metadata": {},
   "outputs": [],
   "source": [
    "output_path = 'yolox_da_outputs/GT_outputs'\n",
    "plt.imsave(os.path.join(output_path,\"save.png\"),img)"
   ]
  },
  {
   "cell_type": "markdown",
   "metadata": {},
   "source": [
    "### 生成foggy_cityscapesGT 框"
   ]
  },
  {
   "cell_type": "code",
   "execution_count": null,
   "metadata": {},
   "outputs": [],
   "source": [
    "raw_img_path = 'datasets/Cityscapes/leftImg8bit_foggy/val/munster'\n",
    "output_path = 'yolox_da_outputs/GT_outputs'\n",
    "for file in os.listdir(raw_img_path):\n",
    "    foggy_type = file[-6:-4]\n",
    "    if foggy_type=='02':\n",
    "        print(file)\n",
    "        anno = get_info_from_filepath('munster/'+file)\n",
    "        if anno == None:\n",
    "            print(file+' has not anno!')\n",
    "        else:\n",
    "            resize_ratio = max(anno[1])/640\n",
    "            raw_img = cv2.imread(os.path.join(data_dir,'leftImg8bit_foggy/val/munster/',file))\n",
    "            img = vis_GT(raw_img, anno[0], resize_ratio, class_names=Cityscapes_CLASSES)\n",
    "            # plt.imshow(img)\n",
    "            cv2.imwrite(os.path.join(output_path,'munster_foggy',file),img)\n",
    "            # plt.imsave(os.path.join(output_path,'munster',file),img)\n",
    "            "
   ]
  },
  {
   "cell_type": "markdown",
   "metadata": {},
   "source": [
    "### 生成cityscapes GT框\n"
   ]
  },
  {
   "cell_type": "code",
   "execution_count": null,
   "metadata": {},
   "outputs": [],
   "source": [
    "raw_img_path = 'datasets/Cityscapes/leftImg8bit/val/munster'\n",
    "output_path = 'yolox_da_outputs/GT_outputs'\n",
    "for file in os.listdir(raw_img_path):\n",
    "    print(file[0:-4])\n",
    "    anno = get_info_from_filepath('munster/'+file[0:-4]+\".png\")\n",
    "    if anno == None:\n",
    "        print(file+' has not anno!')\n",
    "    else:\n",
    "        resize_ratio = max(anno[1])/640\n",
    "        raw_img = cv2.imread(os.path.join(data_dir,'leftImg8bit/val/munster/',file))\n",
    "        img = vis_GT(raw_img, anno[0], resize_ratio, class_names=KITTI_CLASSES)\n",
    "        # plt.imshow(img)\n",
    "        cv2.imwrite(os.path.join(output_path,'munster_clear',file),img)\n",
    "        # plt.imsave(os.path.join(output_path,'munster_clear',file),img) #RGB BGR"
   ]
  },
  {
   "cell_type": "code",
   "execution_count": null,
   "metadata": {},
   "outputs": [],
   "source": [
    "raw_img_path = 'datasets/Cityscapes/leftImg8bit/val/munster'\n",
    "output_path = 'yolox_da_outputs/GT_outputs'\n",
    "for file in os.listdir(raw_img_path):\n",
    "    print(file[0:-4])\n",
    "    anno = get_info_from_filepath('munster/'+file[0:-4]+\"_foggy_beta_0.02.png\")\n",
    "    if anno == None:\n",
    "        print(file+' has not anno!')\n",
    "    else:\n",
    "        resize_ratio = max(anno[1])/640\n",
    "        raw_img = cv2.imread(os.path.join(data_dir,'leftImg8bit/val/munster/',file))\n",
    "        img = vis_GT(raw_img, anno[0], resize_ratio, class_names=Cityscapes_CLASSES)\n",
    "        # plt.imshow(img)\n",
    "        cv2.imwrite(os.path.join(output_path,'munster_clear',file),img)\n",
    "        # plt.imsave(os.path.join(output_path,'munster_clear',file),img) #RGB BGR"
   ]
  },
  {
   "cell_type": "markdown",
   "metadata": {},
   "source": [
    "## 生成Sim10k数据集的GT框"
   ]
  },
  {
   "cell_type": "code",
   "execution_count": 4,
   "metadata": {},
   "outputs": [
    {
     "name": "stdout",
     "output_type": "stream",
     "text": [
      "Object: car, Count: 57776\n",
      "Object: motorbike, Count: 921\n",
      "Object: person, Count: 4\n"
     ]
    }
   ],
   "source": [
    "import os\n",
    "import xml.etree.ElementTree as ET\n",
    "from collections import Counter\n",
    "\n",
    "def parse_xml(xml_file):\n",
    "    tree = ET.parse(xml_file)\n",
    "    root = tree.getroot()\n",
    "    objects = []\n",
    "\n",
    "    for obj in root.findall('object'):\n",
    "        name = obj.find('name').text\n",
    "        objects.append(name)\n",
    "\n",
    "    return objects\n",
    "\n",
    "def find_objects_in_xml_files(directory):\n",
    "    # 支持的文件扩展名\n",
    "    supported_extensions = ('.xml', '.XML')\n",
    "    all_objects = []\n",
    "\n",
    "    for root, _, files in os.walk(directory):\n",
    "        for file in files:\n",
    "            if file.endswith(supported_extensions):\n",
    "                file_path = os.path.join(root, file)\n",
    "                objects = parse_xml(file_path)\n",
    "                all_objects.extend(objects)\n",
    "\n",
    "    return all_objects\n",
    "\n",
    "def main():\n",
    "    directory = '/home/sipl/gitspace/yolox_implementation/yolox_damain_adaptation/datasets/Sim10k/Annotations'  # 你的文件夹路径\n",
    "    all_objects = find_objects_in_xml_files(directory)\n",
    "\n",
    "    # 计数每个对象出现的次数\n",
    "    object_counts = Counter(all_objects)\n",
    "\n",
    "    # 打印每个对象及其计数\n",
    "    for obj, count in object_counts.items():\n",
    "        print(f\"Object: {obj}, Count: {count}\")\n",
    "\n",
    "if __name__ == '__main__':\n",
    "    main()\n"
   ]
  },
  {
   "cell_type": "markdown",
   "metadata": {},
   "source": [
    "### voc转coco标注"
   ]
  },
  {
   "cell_type": "code",
   "execution_count": null,
   "metadata": {},
   "outputs": [],
   "source": [
    "import os\n",
    "import json\n",
    "import xml.etree.ElementTree as ET\n",
    "\n",
    "# 定义COCO数据结构\n",
    "coco_output = {\n",
    "    \"images\": [],\n",
    "    \"categories\": [],\n",
    "    \"annotations\": []\n",
    "}\n",
    "\n",
    "# 类别信息，这里只添加了'car'，可以根据实际情况添加更多类别\n",
    "category_id = 1\n",
    "coco_output[\"categories\"].append({\n",
    "    \"id\": category_id,\n",
    "    \"name\": \"car\"\n",
    "})\n",
    "\n",
    "# 遍历Annotations文件夹中的所有XML文件\n",
    "annotations_dir = 'datasets/Sim10k/Annotations'\n",
    "for filename in os.listdir(annotations_dir):\n",
    "    if filename.endswith('.xml'):\n",
    "        # 解析XML文件\n",
    "        tree = ET.parse(os.path.join(annotations_dir, filename))\n",
    "        root = tree.getroot()\n",
    "        # 获取图片信息\n",
    "        file_id = int(filename.split('.')[0])\n",
    "        file_name = filename[:-4] + '.jpg'\n",
    "        # print(file_name)\n",
    "        width = int(root.find('size').find('width').text)\n",
    "        height = int(root.find('size').find('height').text)\n",
    "\n",
    "        # 添加图片信息到COCO数据结构\n",
    "        coco_output[\"images\"].append({\n",
    "            \"id\": file_id,\n",
    "            \"width\": width,\n",
    "            \"height\": height,\n",
    "            \"file_name\": file_name\n",
    "        })\n",
    "\n",
    "        # 遍历所有对象\n",
    "        for obj in root.iter('object'):\n",
    "            # 获取对象信息\n",
    "            class_name = obj.find('name').text\n",
    "            if class_name not in ['car']:  # 只处理'car'类别\n",
    "                continue\n",
    "            truncated = int(obj.find('truncated').text)\n",
    "            pose = obj.find('pose').text\n",
    "            difficult = int(obj.find('difficult').text)\n",
    "\n",
    "            bndbox = obj.find('bndbox')\n",
    "            xmin = int(bndbox.find('xmin').text)\n",
    "            ymin = int(bndbox.find('ymin').text)\n",
    "            xmax = int(bndbox.find('xmax').text)\n",
    "            ymax = int(bndbox.find('ymax').text)\n",
    "\n",
    "            # 计算面积\n",
    "            bbox_width = xmax - xmin\n",
    "            bbox_height = ymax - ymin\n",
    "            area = bbox_width * bbox_height\n",
    "\n",
    "            # 添加标注信息到COCO数据结构\n",
    "            coco_output[\"annotations\"].append({\n",
    "                \"id\": len(coco_output[\"annotations\"]) + 1,\n",
    "                \"image_id\": file_id,\n",
    "                \"category_id\": category_id,\n",
    "                \"segmentation\": [],\n",
    "                \"area\": area,\n",
    "                \"bbox\": [xmin, ymin, bbox_width, bbox_height],\n",
    "                \"iscrowd\": 0\n",
    "            })\n",
    "        print(filename,\"is ok\")\n",
    "\n",
    "# 将COCO数据结构转换为JSON格式并保存到文件\n",
    "with open('datasets/Sim10k/annotations_coco/sim10k_coco.json', 'w') as output_file:\n",
    "    json.dump(coco_output, output_file)\n",
    "\n",
    "print(\"COCO annotation file has been created.\")"
   ]
  },
  {
   "cell_type": "code",
   "execution_count": null,
   "metadata": {},
   "outputs": [],
   "source": [
    "import os\n",
    "from pycocotools.coco import COCO\n",
    "\n",
    "from yolox.data import COCOFormatDataset, ValTransform\n",
    "data_dir = \"datasets/Sim10k\"\n",
    "val_ann = \"annotations_coco/sim10k_coco.json\"\n",
    "test_size = (640, 640)\n",
    "valdataset = COCOFormatDataset(\n",
    "    data_dir=data_dir,\n",
    "    name=\"sim10k\",\n",
    "    json_file=val_ann,\n",
    "    img_dir=\"JPEGImages\",\n",
    "    img_size=test_size,\n",
    "    preproc=ValTransform(legacy=False),\n",
    ")\n",
    "valdataset.annotations"
   ]
  },
  {
   "cell_type": "code",
   "execution_count": 31,
   "metadata": {},
   "outputs": [],
   "source": [
    "def get_info_from_filepath(path):\n",
    "    for i,anno in enumerate(valdataset.annotations):\n",
    "        bboxs,img_size,resize_size,file_path = anno\n",
    "        # print(file_path)\n",
    "        if file_path == path:\n",
    "            return anno\n",
    "    print('anno not found!')\n",
    "    return None\n",
    "anno = get_info_from_filepath('3399597.jpg')"
   ]
  },
  {
   "cell_type": "code",
   "execution_count": 32,
   "metadata": {},
   "outputs": [],
   "source": [
    "import cv2\n",
    "raw_img = cv2.imread(os.path.join(data_dir,'JPEGImages','3399597.jpg'))"
   ]
  },
  {
   "cell_type": "code",
   "execution_count": null,
   "metadata": {},
   "outputs": [],
   "source": [
    "from matplotlib import pyplot as plt\n",
    "plt.imshow(raw_img)"
   ]
  },
  {
   "cell_type": "code",
   "execution_count": null,
   "metadata": {},
   "outputs": [],
   "source": [
    "from visualize import vis_GT\n",
    "from yolox.data.datasets import KITTI_CLASSES\n",
    "img = raw_img\n",
    "img = vis_GT(img, anno[0], max(anno[1])/640, class_names=KITTI_CLASSES)\n",
    "plt.imshow(img)\n",
    "plt.imsave(\"save.png\",img)"
   ]
  },
  {
   "cell_type": "markdown",
   "metadata": {},
   "source": [
    "### 生成GT图片"
   ]
  },
  {
   "cell_type": "code",
   "execution_count": null,
   "metadata": {},
   "outputs": [],
   "source": [
    "raw_img_path = 'datasets/Sim10k/JPEGImages'\n",
    "output_path = 'yolox_da_outputs/GT_outputs'\n",
    "for file in os.listdir(raw_img_path):\n",
    "        print(file)\n",
    "        anno = get_info_from_filepath(file)\n",
    "        if anno == None:\n",
    "            print(file+' has not anno!')\n",
    "        else:\n",
    "            resize_ratio = max(anno[1])/640\n",
    "            raw_img = cv2.imread(os.path.join(data_dir,'JPEGImages/',file))\n",
    "            img = vis_GT(raw_img, anno[0], resize_ratio, class_names=KITTI_CLASSES)\n",
    "            # plt.imshow(img)\n",
    "            cv2.imwrite(os.path.join(output_path,'sim10k',file),img)\n",
    "            # plt.imsave(os.path.join(output_path,'munster',file),img)\n",
    "            "
   ]
  },
  {
   "cell_type": "markdown",
   "metadata": {},
   "source": [
    "## 生成KITTI数据集的GT框"
   ]
  },
  {
   "cell_type": "markdown",
   "metadata": {},
   "source": [
    "### voc转coco标注"
   ]
  },
  {
   "cell_type": "code",
   "execution_count": null,
   "metadata": {},
   "outputs": [],
   "source": [
    "import os\n",
    "import json\n",
    "import xml.etree.ElementTree as ET\n",
    "\n",
    "# 定义COCO数据结构\n",
    "coco_output = {\n",
    "    \"images\": [],\n",
    "    \"categories\": [],\n",
    "    \"annotations\": []\n",
    "}\n",
    "\n",
    "# 类别信息，这里只添加了'car'，可以根据实际情况添加更多类别\n",
    "category_id = 1\n",
    "coco_output[\"categories\"].append({\n",
    "    \"id\": category_id,\n",
    "    \"name\": \"car\"\n",
    "})\n",
    "\n",
    "# 遍历Annotations文件夹中的所有XML文件\n",
    "annotations_dir = 'datasets/KITTI/Annotations'\n",
    "for filename in os.listdir(annotations_dir):\n",
    "    if filename.endswith('.xml'):\n",
    "        # 解析XML文件\n",
    "        tree = ET.parse(os.path.join(annotations_dir, filename))\n",
    "        root = tree.getroot()\n",
    "        # 获取图片信息\n",
    "        file_id = int(filename.split('.')[0])\n",
    "        file_name = filename[:-4] + '.png'\n",
    "        # print(file_name)\n",
    "        width = int(root.find('size').find('width').text)\n",
    "        height = int(root.find('size').find('height').text)\n",
    "\n",
    "        # 添加图片信息到COCO数据结构\n",
    "        coco_output[\"images\"].append({\n",
    "            \"id\": file_id,\n",
    "            \"width\": width,\n",
    "            \"height\": height,\n",
    "            \"file_name\": file_name\n",
    "        })\n",
    "\n",
    "        # 遍历所有对象\n",
    "        for obj in root.iter('object'):\n",
    "            # 获取对象信息\n",
    "            class_name = obj.find('name').text\n",
    "            if class_name not in ['car']:  # 只处理'car'类别\n",
    "                continue\n",
    "            truncated = int(obj.find('truncated').text)\n",
    "            pose = obj.find('pose').text\n",
    "            difficult = int(obj.find('difficult').text)\n",
    "\n",
    "            bndbox = obj.find('bndbox')\n",
    "            xmin = int(bndbox.find('xmin').text)\n",
    "            ymin = int(bndbox.find('ymin').text)\n",
    "            xmax = int(bndbox.find('xmax').text)\n",
    "            ymax = int(bndbox.find('ymax').text)\n",
    "\n",
    "            # 计算面积\n",
    "            bbox_width = xmax - xmin\n",
    "            bbox_height = ymax - ymin\n",
    "            area = bbox_width * bbox_height\n",
    "\n",
    "            # 添加标注信息到COCO数据结构\n",
    "            coco_output[\"annotations\"].append({\n",
    "                \"id\": len(coco_output[\"annotations\"]) + 1,\n",
    "                \"image_id\": file_id,\n",
    "                \"category_id\": category_id,\n",
    "                \"segmentation\": [],\n",
    "                \"area\": area,\n",
    "                \"bbox\": [xmin, ymin, bbox_width, bbox_height],\n",
    "                \"iscrowd\": 0\n",
    "            })\n",
    "        print(filename,\"is ok\")\n",
    "\n",
    "# 将COCO数据结构转换为JSON格式并保存到文件\n",
    "with open('datasets/KITTI/annotations_coco/KITTI_coco.json', 'w') as output_file:\n",
    "    json.dump(coco_output, output_file)\n",
    "\n",
    "print(\"COCO annotation file has been created.\")"
   ]
  },
  {
   "cell_type": "code",
   "execution_count": null,
   "metadata": {},
   "outputs": [],
   "source": [
    "import os\n",
    "from pycocotools.coco import COCO\n",
    "\n",
    "from yolox.data import COCOFormatDataset, ValTransform\n",
    "data_dir = \"datasets/KITTI\"\n",
    "val_ann = \"annotations_coco/KITTI_coco.json\"\n",
    "test_size = (640, 640)\n",
    "valdataset = COCOFormatDataset(\n",
    "    data_dir=data_dir,\n",
    "    name=\"KITTI\",\n",
    "    json_file=val_ann,\n",
    "    img_dir=\"JPEGImages\",\n",
    "    img_size=test_size,\n",
    "    preproc=ValTransform(legacy=False),\n",
    ")\n",
    "\n",
    "valdataset.annotations"
   ]
  },
  {
   "cell_type": "code",
   "execution_count": 51,
   "metadata": {},
   "outputs": [],
   "source": [
    "def get_info_from_filepath(path):\n",
    "    for i,anno in enumerate(valdataset.annotations):\n",
    "        bboxs,img_size,resize_size,file_path = anno\n",
    "        # print(file_path)\n",
    "        if file_path == path:\n",
    "            return anno\n",
    "    print('anno not found!')\n",
    "    return None\n",
    "anno = get_info_from_filepath('000006.png')\n"
   ]
  },
  {
   "cell_type": "code",
   "execution_count": null,
   "metadata": {},
   "outputs": [],
   "source": [
    "import cv2\n",
    "raw_img = cv2.imread(os.path.join(data_dir,'JPEGImages','000006.png'))\n",
    "\n",
    "from matplotlib import pyplot as plt\n",
    "plt.imshow(raw_img)\n"
   ]
  },
  {
   "cell_type": "code",
   "execution_count": null,
   "metadata": {},
   "outputs": [],
   "source": [
    "from visualize import vis_GT\n",
    "from yolox.data.datasets import KITTI_CLASSES\n",
    "img = raw_img\n",
    "img = vis_GT(img, anno[0], max(anno[1])/640, class_names=KITTI_CLASSES)\n",
    "plt.imshow(img)\n",
    "plt.imsave(\"save.png\",img)"
   ]
  },
  {
   "cell_type": "markdown",
   "metadata": {},
   "source": [
    "### 生成GT图片"
   ]
  },
  {
   "cell_type": "code",
   "execution_count": null,
   "metadata": {},
   "outputs": [],
   "source": [
    "raw_img_path = 'datasets/KITTI/JPEGImages'\n",
    "output_path = 'yolox_da_outputs/GT_outputs'\n",
    "for file in os.listdir(raw_img_path):\n",
    "        print(file)\n",
    "        anno = get_info_from_filepath(file)\n",
    "        if anno == None:\n",
    "            print(file+' has not anno!')\n",
    "        else:\n",
    "            resize_ratio = max(anno[1])/640\n",
    "            raw_img = cv2.imread(os.path.join(data_dir,'JPEGImages/',file))\n",
    "            img = vis_GT(raw_img, anno[0], resize_ratio, class_names=KITTI_CLASSES)\n",
    "            # plt.imshow(img)\n",
    "            cv2.imwrite(os.path.join(output_path,'KITTI',file),img)\n",
    "            # plt.imsave(os.path.join(output_path,'munster',file),img)\n",
    "            "
   ]
  }
 ],
 "metadata": {
  "interpreter": {
   "hash": "8d84250c2ae03e4b93c371bc612f829518b487c60be96a2b0d53eb88d2b633ae"
  },
  "kernelspec": {
   "display_name": "Python 3.8.13 64-bit ('yolox': conda)",
   "language": "python",
   "name": "python3"
  },
  "language_info": {
   "codemirror_mode": {
    "name": "ipython",
    "version": 3
   },
   "file_extension": ".py",
   "mimetype": "text/x-python",
   "name": "python",
   "nbconvert_exporter": "python",
   "pygments_lexer": "ipython3",
   "version": "3.8.13"
  },
  "orig_nbformat": 4
 },
 "nbformat": 4,
 "nbformat_minor": 2
}
